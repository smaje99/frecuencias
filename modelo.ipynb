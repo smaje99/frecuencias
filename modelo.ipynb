{
 "cells": [
  {
   "cell_type": "code",
   "execution_count": 1,
   "metadata": {},
   "outputs": [],
   "source": [
    "import pandas as pd\n",
    "import numpy as np\n",
    "\n",
    "from matplotlib import pyplot as plt\n",
    "from colorama import Back, init\n",
    "from random import randint\n",
    "from collections import Counter"
   ]
  },
  {
   "cell_type": "code",
   "execution_count": 2,
   "metadata": {},
   "outputs": [
    {
     "data": {
      "text/plain": [
       "array([1152,  925, 1218, 1193,  553,  203, 1030,  155,  910,  332,  934,\n",
       "        426, 1151, 1484,  235,  653, 1133, 1158, 1495,  914,  621,  737,\n",
       "        802,  258, 1325,  531,  601,  600,  745,  724,  371,  329,  541,\n",
       "       1028,  129, 1445,  153,  389, 1028,  732,  394,  141, 1158,  546,\n",
       "        497,  344,  755,  194, 1095,  637, 1018, 1203,  402, 1123,  894,\n",
       "        681,  999,  647,  964,  392,  277,  152,  853,  871, 1455,  253,\n",
       "       1437,  996,  602, 1028,  207,  527,  470,  126, 1125, 1417,  194,\n",
       "       1118, 1024,  629, 1456, 1356,  711,  970,  342,  276,  978,  113,\n",
       "        718, 1375,  104,  536,  592,  524,  761,  286,  601, 1271,  641,\n",
       "        979, 1050,  728,  256,  900, 1294,  319,  698, 1228,  760, 1126,\n",
       "        596,  182, 1029,  979,  511,  998,  490,  269, 1281, 1409,  958,\n",
       "        199, 1420,  732,  525, 1033, 1375,  617, 1169,  708, 1349, 1084,\n",
       "        366,  296,  723,  215,  830,  418,  570,  774,  764,  891,  960,\n",
       "        913,  206,  125, 1153, 1366, 1480,  204, 1018, 1284, 1308, 1106,\n",
       "       1376,  624,  300, 1079,  171, 1002,  560,  237,  673, 1031,  228,\n",
       "       1218,  229, 1349,  943,  144,  944, 1018,  958,  339,  181,  450,\n",
       "        676, 1356,  295, 1415, 1439,  545, 1198,  537,  554,  539,  586,\n",
       "        441,  464,  151,  634, 1286, 1210,  511,  425,  110,  515, 1236,\n",
       "       1423,  385, 1399,  407,  600,  394,  115,  894,  674, 1262,  236,\n",
       "        798, 1040,  599,  985,  850,  995,  514, 1304,  998,  261, 1083,\n",
       "        816,  276,  911, 1490, 1331,  789,  704, 1170,  787,  392,  354,\n",
       "        941,  548, 1157, 1371,  802, 1328,  775,  248,  683, 1224,  209,\n",
       "       1213,  326,  976, 1298,  482,  209,  472, 1220,  358, 1044,  716,\n",
       "       1468,  382,  286,  249, 1314,  400, 1405,  489,  939,  906, 1440,\n",
       "       1424,  373, 1056, 1132, 1128,  416,  352, 1136,  979,  857, 1355,\n",
       "        634, 1086,  375, 1082, 1350,  936, 1017,  690,  795, 1060,  436,\n",
       "        783,  202, 1297,  515, 1056, 1428,  229,  328,  268,  847, 1246,\n",
       "        352,  544,  496,  855, 1282, 1040,  286, 1495,  708, 1438, 1194,\n",
       "       1287,  194, 1359,  187,  892,  258, 1203, 1061, 1161,  636,  445,\n",
       "       1453, 1069,  344, 1250, 1484,  664, 1060, 1001,  428,  140, 1340,\n",
       "        977, 1180,  999, 1289,  860, 1296,  841,  935, 1169,  236,  466,\n",
       "        693,  877,  427,  223,  633,  261,  668,  622, 1468, 1248, 1242,\n",
       "       1424, 1214,  323, 1073, 1165, 1413,  420,  924,  458, 1341, 1212,\n",
       "        314,  472,  604,  723,  210,  442, 1150, 1237, 1359,  626,  621,\n",
       "        186,  750,  176,  641, 1198,  810, 1240,  797,  770,  463,  857,\n",
       "        575, 1016,  950,  701,  718,  756,  107,  203, 1113,  149,  969,\n",
       "        229, 1280, 1323,  570,  869,  254,  513, 1205, 1165,  356,  405,\n",
       "        450,  273, 1172,  644,  223, 1129,  824,  784, 1331,  751,  647,\n",
       "        564, 1338,  801,  979,  128,  174, 1479, 1144,  706,  363,  577,\n",
       "        591, 1311,  500,  638, 1373,  439,  658,  867,  272, 1033,  341,\n",
       "        724, 1007,  212,  688, 1423,  600,  360,  632, 1129,  801,  354,\n",
       "       1149,  493,  448,  233, 1419, 1146,  370,  616, 1360, 1328, 1243,\n",
       "        634,  882,  811,  400, 1401, 1362,  877,  435, 1357, 1184, 1258,\n",
       "       1267, 1170,  466,  256,  591,  848, 1370, 1095,  814,  472, 1401,\n",
       "       1472,  509,  427,  519,  685,  629,  498, 1431, 1178, 1169,  733,\n",
       "       1416, 1469,  955,  594,  739])"
      ]
     },
     "execution_count": 2,
     "metadata": {},
     "output_type": "execute_result"
    }
   ],
   "source": [
    "data = [randint(100, 1500) for i in range(500)]\n",
    "np.array(data)"
   ]
  },
  {
   "cell_type": "code",
   "execution_count": 3,
   "metadata": {},
   "outputs": [
    {
     "data": {
      "text/plain": [
       "array([ 104,  107,  110,  113,  115,  125,  126,  128,  129,  140,  141,\n",
       "        144,  149,  151,  152,  153,  155,  171,  174,  176,  181,  182,\n",
       "        186,  187,  194,  194,  194,  199,  202,  203,  203,  204,  206,\n",
       "        207,  209,  209,  210,  212,  215,  223,  223,  228,  229,  229,\n",
       "        229,  233,  235,  236,  236,  237,  248,  249,  253,  254,  256,\n",
       "        256,  258,  258,  261,  261,  268,  269,  272,  273,  276,  276,\n",
       "        277,  286,  286,  286,  295,  296,  300,  314,  319,  323,  326,\n",
       "        328,  329,  332,  339,  341,  342,  344,  344,  352,  352,  354,\n",
       "        354,  356,  358,  360,  363,  366,  370,  371,  373,  375,  382,\n",
       "        385,  389,  392,  392,  394,  394,  400,  400,  402,  405,  407,\n",
       "        416,  418,  420,  425,  426,  427,  427,  428,  435,  436,  439,\n",
       "        441,  442,  445,  448,  450,  450,  458,  463,  464,  466,  466,\n",
       "        470,  472,  472,  472,  482,  489,  490,  493,  496,  497,  498,\n",
       "        500,  509,  511,  511,  513,  514,  515,  515,  519,  524,  525,\n",
       "        527,  531,  536,  537,  539,  541,  544,  545,  546,  548,  553,\n",
       "        554,  560,  564,  570,  570,  575,  577,  586,  591,  591,  592,\n",
       "        594,  596,  599,  600,  600,  600,  601,  601,  602,  604,  616,\n",
       "        617,  621,  621,  622,  624,  626,  629,  629,  632,  633,  634,\n",
       "        634,  634,  636,  637,  638,  641,  641,  644,  647,  647,  653,\n",
       "        658,  664,  668,  673,  674,  676,  681,  683,  685,  688,  690,\n",
       "        693,  698,  701,  704,  706,  708,  708,  711,  716,  718,  718,\n",
       "        723,  723,  724,  724,  728,  732,  732,  733,  737,  739,  745,\n",
       "        750,  751,  755,  756,  760,  761,  764,  770,  774,  775,  783,\n",
       "        784,  787,  789,  795,  797,  798,  801,  801,  802,  802,  810,\n",
       "        811,  814,  816,  824,  830,  841,  847,  848,  850,  853,  855,\n",
       "        857,  857,  860,  867,  869,  871,  877,  877,  882,  891,  892,\n",
       "        894,  894,  900,  906,  910,  911,  913,  914,  924,  925,  934,\n",
       "        935,  936,  939,  941,  943,  944,  950,  955,  958,  958,  960,\n",
       "        964,  969,  970,  976,  977,  978,  979,  979,  979,  979,  985,\n",
       "        995,  996,  998,  998,  999,  999, 1001, 1002, 1007, 1016, 1017,\n",
       "       1018, 1018, 1018, 1024, 1028, 1028, 1028, 1029, 1030, 1031, 1033,\n",
       "       1033, 1040, 1040, 1044, 1050, 1056, 1056, 1060, 1060, 1061, 1069,\n",
       "       1073, 1079, 1082, 1083, 1084, 1086, 1095, 1095, 1106, 1113, 1118,\n",
       "       1123, 1125, 1126, 1128, 1129, 1129, 1132, 1133, 1136, 1144, 1146,\n",
       "       1149, 1150, 1151, 1152, 1153, 1157, 1158, 1158, 1161, 1165, 1165,\n",
       "       1169, 1169, 1169, 1170, 1170, 1172, 1178, 1180, 1184, 1193, 1194,\n",
       "       1198, 1198, 1203, 1203, 1205, 1210, 1212, 1213, 1214, 1218, 1218,\n",
       "       1220, 1224, 1228, 1236, 1237, 1240, 1242, 1243, 1246, 1248, 1250,\n",
       "       1258, 1262, 1267, 1271, 1280, 1281, 1282, 1284, 1286, 1287, 1289,\n",
       "       1294, 1296, 1297, 1298, 1304, 1308, 1311, 1314, 1323, 1325, 1328,\n",
       "       1328, 1331, 1331, 1338, 1340, 1341, 1349, 1349, 1350, 1355, 1356,\n",
       "       1356, 1357, 1359, 1359, 1360, 1362, 1366, 1370, 1371, 1373, 1375,\n",
       "       1375, 1376, 1399, 1401, 1401, 1405, 1409, 1413, 1415, 1416, 1417,\n",
       "       1419, 1420, 1423, 1423, 1424, 1424, 1428, 1431, 1437, 1438, 1439,\n",
       "       1440, 1445, 1453, 1455, 1456, 1468, 1468, 1469, 1472, 1479, 1480,\n",
       "       1484, 1484, 1490, 1495, 1495])"
      ]
     },
     "execution_count": 3,
     "metadata": {},
     "output_type": "execute_result"
    }
   ],
   "source": [
    "data.sort()\n",
    "np.array(data)"
   ]
  },
  {
   "cell_type": "code",
   "execution_count": 4,
   "metadata": {},
   "outputs": [
    {
     "data": {
      "text/plain": [
       "792.894"
      ]
     },
     "execution_count": 4,
     "metadata": {},
     "output_type": "execute_result"
    }
   ],
   "source": [
    "np.mean(data)  # Media"
   ]
  },
  {
   "cell_type": "code",
   "execution_count": 5,
   "metadata": {},
   "outputs": [
    {
     "data": {
      "text/plain": [
       "772.0"
      ]
     },
     "execution_count": 5,
     "metadata": {},
     "output_type": "execute_result"
    }
   ],
   "source": [
    "np.median(data)  # mediana"
   ]
  },
  {
   "cell_type": "code",
   "execution_count": 6,
   "metadata": {},
   "outputs": [
    {
     "data": {
      "text/plain": [
       "(979, 4)"
      ]
     },
     "execution_count": 6,
     "metadata": {},
     "output_type": "execute_result"
    }
   ],
   "source": [
    "moda = Counter(data).most_common()[0]\n",
    "moda if moda[1] > 1 else 'No hay moda'"
   ]
  },
  {
   "cell_type": "code",
   "execution_count": 7,
   "metadata": {},
   "outputs": [
    {
     "data": {
      "text/plain": [
       "[(979, 4),\n",
       " (194, 3),\n",
       " (229, 3),\n",
       " (286, 3),\n",
       " (472, 3),\n",
       " (600, 3),\n",
       " (634, 3),\n",
       " (1018, 3),\n",
       " (1028, 3),\n",
       " (1169, 3),\n",
       " (203, 2),\n",
       " (209, 2),\n",
       " (223, 2),\n",
       " (236, 2),\n",
       " (256, 2),\n",
       " (258, 2),\n",
       " (261, 2),\n",
       " (276, 2),\n",
       " (344, 2),\n",
       " (352, 2),\n",
       " (354, 2),\n",
       " (392, 2),\n",
       " (394, 2),\n",
       " (400, 2),\n",
       " (427, 2),\n",
       " (450, 2),\n",
       " (466, 2),\n",
       " (511, 2),\n",
       " (515, 2),\n",
       " (570, 2),\n",
       " (591, 2),\n",
       " (601, 2),\n",
       " (621, 2),\n",
       " (629, 2),\n",
       " (641, 2),\n",
       " (647, 2),\n",
       " (708, 2),\n",
       " (718, 2),\n",
       " (723, 2),\n",
       " (724, 2),\n",
       " (732, 2),\n",
       " (801, 2),\n",
       " (802, 2),\n",
       " (857, 2),\n",
       " (877, 2),\n",
       " (894, 2),\n",
       " (958, 2),\n",
       " (998, 2),\n",
       " (999, 2),\n",
       " (1033, 2),\n",
       " (1040, 2),\n",
       " (1056, 2),\n",
       " (1060, 2),\n",
       " (1095, 2),\n",
       " (1129, 2),\n",
       " (1158, 2),\n",
       " (1165, 2),\n",
       " (1170, 2),\n",
       " (1198, 2),\n",
       " (1203, 2),\n",
       " (1218, 2),\n",
       " (1328, 2),\n",
       " (1331, 2),\n",
       " (1349, 2),\n",
       " (1356, 2),\n",
       " (1359, 2),\n",
       " (1375, 2),\n",
       " (1401, 2),\n",
       " (1423, 2),\n",
       " (1424, 2),\n",
       " (1468, 2),\n",
       " (1484, 2),\n",
       " (1495, 2),\n",
       " (104, 1),\n",
       " (107, 1),\n",
       " (110, 1),\n",
       " (113, 1),\n",
       " (115, 1),\n",
       " (125, 1),\n",
       " (126, 1),\n",
       " (128, 1),\n",
       " (129, 1),\n",
       " (140, 1),\n",
       " (141, 1),\n",
       " (144, 1),\n",
       " (149, 1),\n",
       " (151, 1),\n",
       " (152, 1),\n",
       " (153, 1),\n",
       " (155, 1),\n",
       " (171, 1),\n",
       " (174, 1),\n",
       " (176, 1),\n",
       " (181, 1),\n",
       " (182, 1),\n",
       " (186, 1),\n",
       " (187, 1),\n",
       " (199, 1),\n",
       " (202, 1),\n",
       " (204, 1),\n",
       " (206, 1),\n",
       " (207, 1),\n",
       " (210, 1),\n",
       " (212, 1),\n",
       " (215, 1),\n",
       " (228, 1),\n",
       " (233, 1),\n",
       " (235, 1),\n",
       " (237, 1),\n",
       " (248, 1),\n",
       " (249, 1),\n",
       " (253, 1),\n",
       " (254, 1),\n",
       " (268, 1),\n",
       " (269, 1),\n",
       " (272, 1),\n",
       " (273, 1),\n",
       " (277, 1),\n",
       " (295, 1),\n",
       " (296, 1),\n",
       " (300, 1),\n",
       " (314, 1),\n",
       " (319, 1),\n",
       " (323, 1),\n",
       " (326, 1),\n",
       " (328, 1),\n",
       " (329, 1),\n",
       " (332, 1),\n",
       " (339, 1),\n",
       " (341, 1),\n",
       " (342, 1),\n",
       " (356, 1),\n",
       " (358, 1),\n",
       " (360, 1),\n",
       " (363, 1),\n",
       " (366, 1),\n",
       " (370, 1),\n",
       " (371, 1),\n",
       " (373, 1),\n",
       " (375, 1),\n",
       " (382, 1),\n",
       " (385, 1),\n",
       " (389, 1),\n",
       " (402, 1),\n",
       " (405, 1),\n",
       " (407, 1),\n",
       " (416, 1),\n",
       " (418, 1),\n",
       " (420, 1),\n",
       " (425, 1),\n",
       " (426, 1),\n",
       " (428, 1),\n",
       " (435, 1),\n",
       " (436, 1),\n",
       " (439, 1),\n",
       " (441, 1),\n",
       " (442, 1),\n",
       " (445, 1),\n",
       " (448, 1),\n",
       " (458, 1),\n",
       " (463, 1),\n",
       " (464, 1),\n",
       " (470, 1),\n",
       " (482, 1),\n",
       " (489, 1),\n",
       " (490, 1),\n",
       " (493, 1),\n",
       " (496, 1),\n",
       " (497, 1),\n",
       " (498, 1),\n",
       " (500, 1),\n",
       " (509, 1),\n",
       " (513, 1),\n",
       " (514, 1),\n",
       " (519, 1),\n",
       " (524, 1),\n",
       " (525, 1),\n",
       " (527, 1),\n",
       " (531, 1),\n",
       " (536, 1),\n",
       " (537, 1),\n",
       " (539, 1),\n",
       " (541, 1),\n",
       " (544, 1),\n",
       " (545, 1),\n",
       " (546, 1),\n",
       " (548, 1),\n",
       " (553, 1),\n",
       " (554, 1),\n",
       " (560, 1),\n",
       " (564, 1),\n",
       " (575, 1),\n",
       " (577, 1),\n",
       " (586, 1),\n",
       " (592, 1),\n",
       " (594, 1),\n",
       " (596, 1),\n",
       " (599, 1),\n",
       " (602, 1),\n",
       " (604, 1),\n",
       " (616, 1),\n",
       " (617, 1),\n",
       " (622, 1),\n",
       " (624, 1),\n",
       " (626, 1),\n",
       " (632, 1),\n",
       " (633, 1),\n",
       " (636, 1),\n",
       " (637, 1),\n",
       " (638, 1),\n",
       " (644, 1),\n",
       " (653, 1),\n",
       " (658, 1),\n",
       " (664, 1),\n",
       " (668, 1),\n",
       " (673, 1),\n",
       " (674, 1),\n",
       " (676, 1),\n",
       " (681, 1),\n",
       " (683, 1),\n",
       " (685, 1),\n",
       " (688, 1),\n",
       " (690, 1),\n",
       " (693, 1),\n",
       " (698, 1),\n",
       " (701, 1),\n",
       " (704, 1),\n",
       " (706, 1),\n",
       " (711, 1),\n",
       " (716, 1),\n",
       " (728, 1),\n",
       " (733, 1),\n",
       " (737, 1),\n",
       " (739, 1),\n",
       " (745, 1),\n",
       " (750, 1),\n",
       " (751, 1),\n",
       " (755, 1),\n",
       " (756, 1),\n",
       " (760, 1),\n",
       " (761, 1),\n",
       " (764, 1),\n",
       " (770, 1),\n",
       " (774, 1),\n",
       " (775, 1),\n",
       " (783, 1),\n",
       " (784, 1),\n",
       " (787, 1),\n",
       " (789, 1),\n",
       " (795, 1),\n",
       " (797, 1),\n",
       " (798, 1),\n",
       " (810, 1),\n",
       " (811, 1),\n",
       " (814, 1),\n",
       " (816, 1),\n",
       " (824, 1),\n",
       " (830, 1),\n",
       " (841, 1),\n",
       " (847, 1),\n",
       " (848, 1),\n",
       " (850, 1),\n",
       " (853, 1),\n",
       " (855, 1),\n",
       " (860, 1),\n",
       " (867, 1),\n",
       " (869, 1),\n",
       " (871, 1),\n",
       " (882, 1),\n",
       " (891, 1),\n",
       " (892, 1),\n",
       " (900, 1),\n",
       " (906, 1),\n",
       " (910, 1),\n",
       " (911, 1),\n",
       " (913, 1),\n",
       " (914, 1),\n",
       " (924, 1),\n",
       " (925, 1),\n",
       " (934, 1),\n",
       " (935, 1),\n",
       " (936, 1),\n",
       " (939, 1),\n",
       " (941, 1),\n",
       " (943, 1),\n",
       " (944, 1),\n",
       " (950, 1),\n",
       " (955, 1),\n",
       " (960, 1),\n",
       " (964, 1),\n",
       " (969, 1),\n",
       " (970, 1),\n",
       " (976, 1),\n",
       " (977, 1),\n",
       " (978, 1),\n",
       " (985, 1),\n",
       " (995, 1),\n",
       " (996, 1),\n",
       " (1001, 1),\n",
       " (1002, 1),\n",
       " (1007, 1),\n",
       " (1016, 1),\n",
       " (1017, 1),\n",
       " (1024, 1),\n",
       " (1029, 1),\n",
       " (1030, 1),\n",
       " (1031, 1),\n",
       " (1044, 1),\n",
       " (1050, 1),\n",
       " (1061, 1),\n",
       " (1069, 1),\n",
       " (1073, 1),\n",
       " (1079, 1),\n",
       " (1082, 1),\n",
       " (1083, 1),\n",
       " (1084, 1),\n",
       " (1086, 1),\n",
       " (1106, 1),\n",
       " (1113, 1),\n",
       " (1118, 1),\n",
       " (1123, 1),\n",
       " (1125, 1),\n",
       " (1126, 1),\n",
       " (1128, 1),\n",
       " (1132, 1),\n",
       " (1133, 1),\n",
       " (1136, 1),\n",
       " (1144, 1),\n",
       " (1146, 1),\n",
       " (1149, 1),\n",
       " (1150, 1),\n",
       " (1151, 1),\n",
       " (1152, 1),\n",
       " (1153, 1),\n",
       " (1157, 1),\n",
       " (1161, 1),\n",
       " (1172, 1),\n",
       " (1178, 1),\n",
       " (1180, 1),\n",
       " (1184, 1),\n",
       " (1193, 1),\n",
       " (1194, 1),\n",
       " (1205, 1),\n",
       " (1210, 1),\n",
       " (1212, 1),\n",
       " (1213, 1),\n",
       " (1214, 1),\n",
       " (1220, 1),\n",
       " (1224, 1),\n",
       " (1228, 1),\n",
       " (1236, 1),\n",
       " (1237, 1),\n",
       " (1240, 1),\n",
       " (1242, 1),\n",
       " (1243, 1),\n",
       " (1246, 1),\n",
       " (1248, 1),\n",
       " (1250, 1),\n",
       " (1258, 1),\n",
       " (1262, 1),\n",
       " (1267, 1),\n",
       " (1271, 1),\n",
       " (1280, 1),\n",
       " (1281, 1),\n",
       " (1282, 1),\n",
       " (1284, 1),\n",
       " (1286, 1),\n",
       " (1287, 1),\n",
       " (1289, 1),\n",
       " (1294, 1),\n",
       " (1296, 1),\n",
       " (1297, 1),\n",
       " (1298, 1),\n",
       " (1304, 1),\n",
       " (1308, 1),\n",
       " (1311, 1),\n",
       " (1314, 1),\n",
       " (1323, 1),\n",
       " (1325, 1),\n",
       " (1338, 1),\n",
       " (1340, 1),\n",
       " (1341, 1),\n",
       " (1350, 1),\n",
       " (1355, 1),\n",
       " (1357, 1),\n",
       " (1360, 1),\n",
       " (1362, 1),\n",
       " (1366, 1),\n",
       " (1370, 1),\n",
       " (1371, 1),\n",
       " (1373, 1),\n",
       " (1376, 1),\n",
       " (1399, 1),\n",
       " (1405, 1),\n",
       " (1409, 1),\n",
       " (1413, 1),\n",
       " (1415, 1),\n",
       " (1416, 1),\n",
       " (1417, 1),\n",
       " (1419, 1),\n",
       " (1420, 1),\n",
       " (1428, 1),\n",
       " (1431, 1),\n",
       " (1437, 1),\n",
       " (1438, 1),\n",
       " (1439, 1),\n",
       " (1440, 1),\n",
       " (1445, 1),\n",
       " (1453, 1),\n",
       " (1455, 1),\n",
       " (1456, 1),\n",
       " (1469, 1),\n",
       " (1472, 1),\n",
       " (1479, 1),\n",
       " (1480, 1),\n",
       " (1490, 1)]"
      ]
     },
     "execution_count": 7,
     "metadata": {},
     "output_type": "execute_result"
    }
   ],
   "source": [
    "Counter(data).most_common()"
   ]
  },
  {
   "cell_type": "code",
   "execution_count": 8,
   "metadata": {},
   "outputs": [
    {
     "data": {
      "text/plain": [
       "398.5739514368695"
      ]
     },
     "execution_count": 8,
     "metadata": {},
     "output_type": "execute_result"
    }
   ],
   "source": [
    "np.std(data)  # desviación estándar "
   ]
  },
  {
   "cell_type": "code",
   "execution_count": 9,
   "metadata": {},
   "outputs": [
    {
     "data": {
      "text/plain": [
       "158861.194764"
      ]
     },
     "execution_count": 9,
     "metadata": {},
     "output_type": "execute_result"
    }
   ],
   "source": [
    "np.var(data)  # varianza"
   ]
  },
  {
   "cell_type": "code",
   "execution_count": 10,
   "metadata": {},
   "outputs": [
    {
     "data": {
      "text/plain": [
       "(1495, 104)"
      ]
     },
     "execution_count": 10,
     "metadata": {},
     "output_type": "execute_result"
    }
   ],
   "source": [
    "np.max(data), np.min(data)"
   ]
  },
  {
   "cell_type": "code",
   "execution_count": 11,
   "metadata": {},
   "outputs": [
    {
     "data": {
      "text/plain": [
       "1391"
      ]
     },
     "execution_count": 11,
     "metadata": {},
     "output_type": "execute_result"
    }
   ],
   "source": [
    "np.max(data) - np.min(data)  # R rango"
   ]
  },
  {
   "cell_type": "code",
   "execution_count": 12,
   "metadata": {},
   "outputs": [
    {
     "data": {
      "text/plain": [
       "(array([50., 49., 53., 58., 49., 40., 54., 52., 45., 50.]),\n",
       " array([ 104. ,  243.1,  382.2,  521.3,  660.4,  799.5,  938.6, 1077.7,\n",
       "        1216.8, 1355.9, 1495. ]),\n",
       " <BarContainer object of 10 artists>)"
      ]
     },
     "execution_count": 12,
     "metadata": {},
     "output_type": "execute_result"
    },
    {
     "data": {
      "image/png": "[encoded data removed]",
      "text/plain": [
       "<Figure size 432x288 with 1 Axes>"
      ]
     },
     "metadata": {
      "needs_background": "light"
     },
     "output_type": "display_data"
    }
   ],
   "source": [
    "plt.title('Histograma')\n",
    "plt.hist(data, edgecolor='black')"
   ]
  },
  {
   "cell_type": "code",
   "execution_count": 19,
   "metadata": {},
   "outputs": [
    {
     "data": {
      "application/vnd.plotly.v1+json": {
       "config": {
        "plotlyServerURL": "https://plot.ly"
       },
       "data": [
        {
         "alignmentgroup": "True",
         "bingroup": "x",
         "hovertemplate": "variable=0<br>value=%{x}<br>count=%{y}<extra></extra>",
         "legendgroup": "0",
         "marker": {
          "color": "#636efa"
         },
         "name": "0",
         "offsetgroup": "0",
         "orientation": "v",
         "showlegend": true,
         "type": "histogram",
         "x": [
          104,
          107,
          110,
          113,
          115,
          125,
          126,
          128,
          129,
          140,
          141,
          144,
          149,
          151,
          152,
          153,
          155,
          171,
          174,
          176,
          181,
          182,
          186,
          187,
          194,
          194,
          194,
          199,
          202,
          203,
          203,
          204,
          206,
          207,
          209,
          209,
          210,
          212,
          215,
          223,
          223,
          228,
          229,
          229,
          229,
          233,
          235,
          236,
          236,
          237,
          248,
          249,
          253,
          254,
          256,
          256,
          258,
          258,
          261,
          261,
          268,
          269,
          272,
          273,
          276,
          276,
          277,
          286,
          286,
          286,
          295,
          296,
          300,
          314,
          319,
          323,
          326,
          328,
          329,
          332,
          339,
          341,
          342,
          344,
          344,
          352,
          352,
          354,
          354,
          356,
          358,
          360,
          363,
          366,
          370,
          371,
          373,
          375,
          382,
          385,
          389,
          392,
          392,
          394,
          394,
          400,
          400,
          402,
          405,
          407,
          416,
          418,
          420,
          425,
          426,
          427,
          427,
          428,
          435,
          436,
          439,
          441,
          442,
          445,
          448,
          450,
          450,
          458,
          463,
          464,
          466,
          466,
          470,
          472,
          472,
          472,
          482,
          489,
          490,
          493,
          496,
          497,
          498,
          500,
          509,
          511,
          511,
          513,
          514,
          515,
          515,
          519,
          524,
          525,
          527,
          531,
          536,
          537,
          539,
          541,
          544,
          545,
          546,
          548,
          553,
          554,
          560,
          564,
          570,
          570,
          575,
          577,
          586,
          591,
          591,
          592,
          594,
          596,
          599,
          600,
          600,
          600,
          601,
          601,
          602,
          604,
          616,
          617,
          621,
          621,
          622,
          624,
          626,
          629,
          629,
          632,
          633,
          634,
          634,
          634,
          636,
          637,
          638,
          641,
          641,
          644,
          647,
          647,
          653,
          658,
          664,
          668,
          673,
          674,
          676,
          681,
          683,
          685,
          688,
          690,
          693,
          698,
          701,
          704,
          706,
          708,
          708,
          711,
          716,
          718,
          718,
          723,
          723,
          724,
          724,
          728,
          732,
          732,
          733,
          737,
          739,
          745,
          750,
          751,
          755,
          756,
          760,
          761,
          764,
          770,
          774,
          775,
          783,
          784,
          787,
          789,
          795,
          797,
          798,
          801,
          801,
          802,
          802,
          810,
          811,
          814,
          816,
          824,
          830,
          841,
          847,
          848,
          850,
          853,
          855,
          857,
          857,
          860,
          867,
          869,
          871,
          877,
          877,
          882,
          891,
          892,
          894,
          894,
          900,
          906,
          910,
          911,
          913,
          914,
          924,
          925,
          934,
          935,
          936,
          939,
          941,
          943,
          944,
          950,
          955,
          958,
          958,
          960,
          964,
          969,
          970,
          976,
          977,
          978,
          979,
          979,
          979,
          979,
          985,
          995,
          996,
          998,
          998,
          999,
          999,
          1001,
          1002,
          1007,
          1016,
          1017,
          1018,
          1018,
          1018,
          1024,
          1028,
          1028,
          1028,
          1029,
          1030,
          1031,
          1033,
          1033,
          1040,
          1040,
          1044,
          1050,
          1056,
          1056,
          1060,
          1060,
          1061,
          1069,
          1073,
          1079,
          1082,
          1083,
          1084,
          1086,
          1095,
          1095,
          1106,
          1113,
          1118,
          1123,
          1125,
          1126,
          1128,
          1129,
          1129,
          1132,
          1133,
          1136,
          1144,
          1146,
          1149,
          1150,
          1151,
          1152,
          1153,
          1157,
          1158,
          1158,
          1161,
          1165,
          1165,
          1169,
          1169,
          1169,
          1170,
          1170,
          1172,
          1178,
          1180,
          1184,
          1193,
          1194,
          1198,
          1198,
          1203,
          1203,
          1205,
          1210,
          1212,
          1213,
          1214,
          1218,
          1218,
          1220,
          1224,
          1228,
          1236,
          1237,
          1240,
          1242,
          1243,
          1246,
          1248,
          1250,
          1258,
          1262,
          1267,
          1271,
          1280,
          1281,
          1282,
          1284,
          1286,
          1287,
          1289,
          1294,
          1296,
          1297,
          1298,
          1304,
          1308,
          1311,
          1314,
          1323,
          1325,
          1328,
          1328,
          1331,
          1331,
          1338,
          1340,
          1341,
          1349,
          1349,
          1350,
          1355,
          1356,
          1356,
          1357,
          1359,
          1359,
          1360,
          1362,
          1366,
          1370,
          1371,
          1373,
          1375,
          1375,
          1376,
          1399,
          1401,
          1401,
          1405,
          1409,
          1413,
          1415,
          1416,
          1417,
          1419,
          1420,
          1423,
          1423,
          1424,
          1424,
          1428,
          1431,
          1437,
          1438,
          1439,
          1440,
          1445,
          1453,
          1455,
          1456,
          1468,
          1468,
          1469,
          1472,
          1479,
          1480,
          1484,
          1484,
          1490,
          1495,
          1495
         ],
         "xaxis": "x",
         "yaxis": "y"
        }
       ],
       "layout": {
        "barmode": "relative",
        "legend": {
         "title": {
          "text": "variable"
         },
         "tracegroupgap": 0
        },
        "margin": {
         "t": 60
        },
        "template": {
         "data": {
          "bar": [
           {
            "error_x": {
             "color": "#2a3f5f"
            },
            "error_y": {
             "color": "#2a3f5f"
            },
            "marker": {
             "line": {
              "color": "#E5ECF6",
              "width": 0.5
             }
            },
            "type": "bar"
           }
          ],
          "barpolar": [
           {
            "marker": {
             "line": {
              "color": "#E5ECF6",
              "width": 0.5
             }
            },
            "type": "barpolar"
           }
          ],
          "carpet": [
           {
            "aaxis": {
             "endlinecolor": "#2a3f5f",
             "gridcolor": "white",
             "linecolor": "white",
             "minorgridcolor": "white",
             "startlinecolor": "#2a3f5f"
            },
            "baxis": {
             "endlinecolor": "#2a3f5f",
             "gridcolor": "white",
             "linecolor": "white",
             "minorgridcolor": "white",
             "startlinecolor": "#2a3f5f"
            },
            "type": "carpet"
           }
          ],
          "choropleth": [
           {
            "colorbar": {
             "outlinewidth": 0,
             "ticks": ""
            },
            "type": "choropleth"
           }
          ],
          "contour": [
           {
            "colorbar": {
             "outlinewidth": 0,
             "ticks": ""
            },
            "colorscale": [
             [
              0,
              "#0d0887"
             ],
             [
              0.1111111111111111,
              "#46039f"
             ],
             [
              0.2222222222222222,
              "#7201a8"
             ],
             [
              0.3333333333333333,
              "#9c179e"
             ],
             [
              0.4444444444444444,
              "#bd3786"
             ],
             [
              0.5555555555555556,
              "#d8576b"
             ],
             [
              0.6666666666666666,
              "#ed7953"
             ],
             [
              0.7777777777777778,
              "#fb9f3a"
             ],
             [
              0.8888888888888888,
              "#fdca26"
             ],
             [
              1,
              "#f0f921"
             ]
            ],
            "type": "contour"
           }
          ],
          "contourcarpet": [
           {
            "colorbar": {
             "outlinewidth": 0,
             "ticks": ""
            },
            "type": "contourcarpet"
           }
          ],
          "heatmap": [
           {
            "colorbar": {
             "outlinewidth": 0,
             "ticks": ""
            },
            "colorscale": [
             [
              0,
              "#0d0887"
             ],
             [
              0.1111111111111111,
              "#46039f"
             ],
             [
              0.2222222222222222,
              "#7201a8"
             ],
             [
              0.3333333333333333,
              "#9c179e"
             ],
             [
              0.4444444444444444,
              "#bd3786"
             ],
             [
              0.5555555555555556,
              "#d8576b"
             ],
             [
              0.6666666666666666,
              "#ed7953"
             ],
             [
              0.7777777777777778,
              "#fb9f3a"
             ],
             [
              0.8888888888888888,
              "#fdca26"
             ],
             [
              1,
              "#f0f921"
             ]
            ],
            "type": "heatmap"
           }
          ],
          "heatmapgl": [
           {
            "colorbar": {
             "outlinewidth": 0,
             "ticks": ""
            },
            "colorscale": [
             [
              0,
              "#0d0887"
             ],
             [
              0.1111111111111111,
              "#46039f"
             ],
             [
              0.2222222222222222,
              "#7201a8"
             ],
             [
              0.3333333333333333,
              "#9c179e"
             ],
             [
              0.4444444444444444,
              "#bd3786"
             ],
             [
              0.5555555555555556,
              "#d8576b"
             ],
             [
              0.6666666666666666,
              "#ed7953"
             ],
             [
              0.7777777777777778,
              "#fb9f3a"
             ],
             [
              0.8888888888888888,
              "#fdca26"
             ],
             [
              1,
              "#f0f921"
             ]
            ],
            "type": "heatmapgl"
           }
          ],
          "histogram": [
           {
            "marker": {
             "colorbar": {
              "outlinewidth": 0,
              "ticks": ""
             }
            },
            "type": "histogram"
           }
          ],
          "histogram2d": [
           {
            "colorbar": {
             "outlinewidth": 0,
             "ticks": ""
            },
            "colorscale": [
             [
              0,
              "#0d0887"
             ],
             [
              0.1111111111111111,
              "#46039f"
             ],
             [
              0.2222222222222222,
              "#7201a8"
             ],
             [
              0.3333333333333333,
              "#9c179e"
             ],
             [
              0.4444444444444444,
              "#bd3786"
             ],
             [
              0.5555555555555556,
              "#d8576b"
             ],
             [
              0.6666666666666666,
              "#ed7953"
             ],
             [
              0.7777777777777778,
              "#fb9f3a"
             ],
             [
              0.8888888888888888,
              "#fdca26"
             ],
             [
              1,
              "#f0f921"
             ]
            ],
            "type": "histogram2d"
           }
          ],
          "histogram2dcontour": [
           {
            "colorbar": {
             "outlinewidth": 0,
             "ticks": ""
            },
            "colorscale": [
             [
              0,
              "#0d0887"
             ],
             [
              0.1111111111111111,
              "#46039f"
             ],
             [
              0.2222222222222222,
              "#7201a8"
             ],
             [
              0.3333333333333333,
              "#9c179e"
             ],
             [
              0.4444444444444444,
              "#bd3786"
             ],
             [
              0.5555555555555556,
              "#d8576b"
             ],
             [
              0.6666666666666666,
              "#ed7953"
             ],
             [
              0.7777777777777778,
              "#fb9f3a"
             ],
             [
              0.8888888888888888,
              "#fdca26"
             ],
             [
              1,
              "#f0f921"
             ]
            ],
            "type": "histogram2dcontour"
           }
          ],
          "mesh3d": [
           {
            "colorbar": {
             "outlinewidth": 0,
             "ticks": ""
            },
            "type": "mesh3d"
           }
          ],
          "parcoords": [
           {
            "line": {
             "colorbar": {
              "outlinewidth": 0,
              "ticks": ""
             }
            },
            "type": "parcoords"
           }
          ],
          "pie": [
           {
            "automargin": true,
            "type": "pie"
           }
          ],
          "scatter": [
           {
            "marker": {
             "colorbar": {
              "outlinewidth": 0,
              "ticks": ""
             }
            },
            "type": "scatter"
           }
          ],
          "scatter3d": [
           {
            "line": {
             "colorbar": {
              "outlinewidth": 0,
              "ticks": ""
             }
            },
            "marker": {
             "colorbar": {
              "outlinewidth": 0,
              "ticks": ""
             }
            },
            "type": "scatter3d"
           }
          ],
          "scattercarpet": [
           {
            "marker": {
             "colorbar": {
              "outlinewidth": 0,
              "ticks": ""
             }
            },
            "type": "scattercarpet"
           }
          ],
          "scattergeo": [
           {
            "marker": {
             "colorbar": {
              "outlinewidth": 0,
              "ticks": ""
             }
            },
            "type": "scattergeo"
           }
          ],
          "scattergl": [
           {
            "marker": {
             "colorbar": {
              "outlinewidth": 0,
              "ticks": ""
             }
            },
            "type": "scattergl"
           }
          ],
          "scattermapbox": [
           {
            "marker": {
             "colorbar": {
              "outlinewidth": 0,
              "ticks": ""
             }
            },
            "type": "scattermapbox"
           }
          ],
          "scatterpolar": [
           {
            "marker": {
             "colorbar": {
              "outlinewidth": 0,
              "ticks": ""
             }
            },
            "type": "scatterpolar"
           }
          ],
          "scatterpolargl": [
           {
            "marker": {
             "colorbar": {
              "outlinewidth": 0,
              "ticks": ""
             }
            },
            "type": "scatterpolargl"
           }
          ],
          "scatterternary": [
           {
            "marker": {
             "colorbar": {
              "outlinewidth": 0,
              "ticks": ""
             }
            },
            "type": "scatterternary"
           }
          ],
          "surface": [
           {
            "colorbar": {
             "outlinewidth": 0,
             "ticks": ""
            },
            "colorscale": [
             [
              0,
              "#0d0887"
             ],
             [
              0.1111111111111111,
              "#46039f"
             ],
             [
              0.2222222222222222,
              "#7201a8"
             ],
             [
              0.3333333333333333,
              "#9c179e"
             ],
             [
              0.4444444444444444,
              "#bd3786"
             ],
             [
              0.5555555555555556,
              "#d8576b"
             ],
             [
              0.6666666666666666,
              "#ed7953"
             ],
             [
              0.7777777777777778,
              "#fb9f3a"
             ],
             [
              0.8888888888888888,
              "#fdca26"
             ],
             [
              1,
              "#f0f921"
             ]
            ],
            "type": "surface"
           }
          ],
          "table": [
           {
            "cells": {
             "fill": {
              "color": "#EBF0F8"
             },
             "line": {
              "color": "white"
             }
            },
            "header": {
             "fill": {
              "color": "#C8D4E3"
             },
             "line": {
              "color": "white"
             }
            },
            "type": "table"
           }
          ]
         },
         "layout": {
          "annotationdefaults": {
           "arrowcolor": "#2a3f5f",
           "arrowhead": 0,
           "arrowwidth": 1
          },
          "coloraxis": {
           "colorbar": {
            "outlinewidth": 0,
            "ticks": ""
           }
          },
          "colorscale": {
           "diverging": [
            [
             0,
             "#8e0152"
            ],
            [
             0.1,
             "#c51b7d"
            ],
            [
             0.2,
             "#de77ae"
            ],
            [
             0.3,
             "#f1b6da"
            ],
            [
             0.4,
             "#fde0ef"
            ],
            [
             0.5,
             "#f7f7f7"
            ],
            [
             0.6,
             "#e6f5d0"
            ],
            [
             0.7,
             "#b8e186"
            ],
            [
             0.8,
             "#7fbc41"
            ],
            [
             0.9,
             "#4d9221"
            ],
            [
             1,
             "#276419"
            ]
           ],
           "sequential": [
            [
             0,
             "#0d0887"
            ],
            [
             0.1111111111111111,
             "#46039f"
            ],
            [
             0.2222222222222222,
             "#7201a8"
            ],
            [
             0.3333333333333333,
             "#9c179e"
            ],
            [
             0.4444444444444444,
             "#bd3786"
            ],
            [
             0.5555555555555556,
             "#d8576b"
            ],
            [
             0.6666666666666666,
             "#ed7953"
            ],
            [
             0.7777777777777778,
             "#fb9f3a"
            ],
            [
             0.8888888888888888,
             "#fdca26"
            ],
            [
             1,
             "#f0f921"
            ]
           ],
           "sequentialminus": [
            [
             0,
             "#0d0887"
            ],
            [
             0.1111111111111111,
             "#46039f"
            ],
            [
             0.2222222222222222,
             "#7201a8"
            ],
            [
             0.3333333333333333,
             "#9c179e"
            ],
            [
             0.4444444444444444,
             "#bd3786"
            ],
            [
             0.5555555555555556,
             "#d8576b"
            ],
            [
             0.6666666666666666,
             "#ed7953"
            ],
            [
             0.7777777777777778,
             "#fb9f3a"
            ],
            [
             0.8888888888888888,
             "#fdca26"
            ],
            [
             1,
             "#f0f921"
            ]
           ]
          },
          "colorway": [
           "#636efa",
           "#EF553B",
           "#00cc96",
           "#ab63fa",
           "#FFA15A",
           "#19d3f3",
           "#FF6692",
           "#B6E880",
           "#FF97FF",
           "#FECB52"
          ],
          "font": {
           "color": "#2a3f5f"
          },
          "geo": {
           "bgcolor": "white",
           "lakecolor": "white",
           "landcolor": "#E5ECF6",
           "showlakes": true,
           "showland": true,
           "subunitcolor": "white"
          },
          "hoverlabel": {
           "align": "left"
          },
          "hovermode": "closest",
          "mapbox": {
           "style": "light"
          },
          "paper_bgcolor": "white",
          "plot_bgcolor": "#E5ECF6",
          "polar": {
           "angularaxis": {
            "gridcolor": "white",
            "linecolor": "white",
            "ticks": ""
           },
           "bgcolor": "#E5ECF6",
           "radialaxis": {
            "gridcolor": "white",
            "linecolor": "white",
            "ticks": ""
           }
          },
          "scene": {
           "xaxis": {
            "backgroundcolor": "#E5ECF6",
            "gridcolor": "white",
            "gridwidth": 2,
            "linecolor": "white",
            "showbackground": true,
            "ticks": "",
            "zerolinecolor": "white"
           },
           "yaxis": {
            "backgroundcolor": "#E5ECF6",
            "gridcolor": "white",
            "gridwidth": 2,
            "linecolor": "white",
            "showbackground": true,
            "ticks": "",
            "zerolinecolor": "white"
           },
           "zaxis": {
            "backgroundcolor": "#E5ECF6",
            "gridcolor": "white",
            "gridwidth": 2,
            "linecolor": "white",
            "showbackground": true,
            "ticks": "",
            "zerolinecolor": "white"
           }
          },
          "shapedefaults": {
           "line": {
            "color": "#2a3f5f"
           }
          },
          "ternary": {
           "aaxis": {
            "gridcolor": "white",
            "linecolor": "white",
            "ticks": ""
           },
           "baxis": {
            "gridcolor": "white",
            "linecolor": "white",
            "ticks": ""
           },
           "bgcolor": "#E5ECF6",
           "caxis": {
            "gridcolor": "white",
            "linecolor": "white",
            "ticks": ""
           }
          },
          "title": {
           "x": 0.05
          },
          "xaxis": {
           "automargin": true,
           "gridcolor": "white",
           "linecolor": "white",
           "ticks": "",
           "title": {
            "standoff": 15
           },
           "zerolinecolor": "white",
           "zerolinewidth": 2
          },
          "yaxis": {
           "automargin": true,
           "gridcolor": "white",
           "linecolor": "white",
           "ticks": "",
           "title": {
            "standoff": 15
           },
           "zerolinecolor": "white",
           "zerolinewidth": 2
          }
         }
        },
        "xaxis": {
         "anchor": "y",
         "domain": [
          0,
          1
         ],
         "title": {
          "text": "value"
         }
        },
        "yaxis": {
         "anchor": "x",
         "domain": [
          0,
          1
         ],
         "title": {
          "text": "count"
         }
        }
       }
      },
      "text/html": [
       "<div>                            <div id=\"88fa0b33-9437-41ee-a592-685df48fbe44\" class=\"plotly-graph-div\" style=\"height:525px; width:100%;\"></div>            <script type=\"text/javascript\">                require([\"plotly\"], function(Plotly) {                    window.PLOTLYENV=window.PLOTLYENV || {};                                    if (document.getElementById(\"88fa0b33-9437-41ee-a592-685df48fbe44\")) {                    Plotly.newPlot(                        \"88fa0b33-9437-41ee-a592-685df48fbe44\",                        [{\"alignmentgroup\": \"True\", \"bingroup\": \"x\", \"hovertemplate\": \"variable=0<br>value=%{x}<br>count=%{y}<extra></extra>\", \"legendgroup\": \"0\", \"marker\": {\"color\": \"#636efa\"}, \"name\": \"0\", \"offsetgroup\": \"0\", \"orientation\": \"v\", \"showlegend\": true, \"type\": \"histogram\", \"x\": [104, 107, 110, 113, 115, 125, 126, 128, 129, 140, 141, 144, 149, 151, 152, 153, 155, 171, 174, 176, 181, 182, 186, 187, 194, 194, 194, 199, 202, 203, 203, 204, 206, 207, 209, 209, 210, 212, 215, 223, 223, 228, 229, 229, 229, 233, 235, 236, 236, 237, 248, 249, 253, 254, 256, 256, 258, 258, 261, 261, 268, 269, 272, 273, 276, 276, 277, 286, 286, 286, 295, 296, 300, 314, 319, 323, 326, 328, 329, 332, 339, 341, 342, 344, 344, 352, 352, 354, 354, 356, 358, 360, 363, 366, 370, 371, 373, 375, 382, 385, 389, 392, 392, 394, 394, 400, 400, 402, 405, 407, 416, 418, 420, 425, 426, 427, 427, 428, 435, 436, 439, 441, 442, 445, 448, 450, 450, 458, 463, 464, 466, 466, 470, 472, 472, 472, 482, 489, 490, 493, 496, 497, 498, 500, 509, 511, 511, 513, 514, 515, 515, 519, 524, 525, 527, 531, 536, 537, 539, 541, 544, 545, 546, 548, 553, 554, 560, 564, 570, 570, 575, 577, 586, 591, 591, 592, 594, 596, 599, 600, 600, 600, 601, 601, 602, 604, 616, 617, 621, 621, 622, 624, 626, 629, 629, 632, 633, 634, 634, 634, 636, 637, 638, 641, 641, 644, 647, 647, 653, 658, 664, 668, 673, 674, 676, 681, 683, 685, 688, 690, 693, 698, 701, 704, 706, 708, 708, 711, 716, 718, 718, 723, 723, 724, 724, 728, 732, 732, 733, 737, 739, 745, 750, 751, 755, 756, 760, 761, 764, 770, 774, 775, 783, 784, 787, 789, 795, 797, 798, 801, 801, 802, 802, 810, 811, 814, 816, 824, 830, 841, 847, 848, 850, 853, 855, 857, 857, 860, 867, 869, 871, 877, 877, 882, 891, 892, 894, 894, 900, 906, 910, 911, 913, 914, 924, 925, 934, 935, 936, 939, 941, 943, 944, 950, 955, 958, 958, 960, 964, 969, 970, 976, 977, 978, 979, 979, 979, 979, 985, 995, 996, 998, 998, 999, 999, 1001, 1002, 1007, 1016, 1017, 1018, 1018, 1018, 1024, 1028, 1028, 1028, 1029, 1030, 1031, 1033, 1033, 1040, 1040, 1044, 1050, 1056, 1056, 1060, 1060, 1061, 1069, 1073, 1079, 1082, 1083, 1084, 1086, 1095, 1095, 1106, 1113, 1118, 1123, 1125, 1126, 1128, 1129, 1129, 1132, 1133, 1136, 1144, 1146, 1149, 1150, 1151, 1152, 1153, 1157, 1158, 1158, 1161, 1165, 1165, 1169, 1169, 1169, 1170, 1170, 1172, 1178, 1180, 1184, 1193, 1194, 1198, 1198, 1203, 1203, 1205, 1210, 1212, 1213, 1214, 1218, 1218, 1220, 1224, 1228, 1236, 1237, 1240, 1242, 1243, 1246, 1248, 1250, 1258, 1262, 1267, 1271, 1280, 1281, 1282, 1284, 1286, 1287, 1289, 1294, 1296, 1297, 1298, 1304, 1308, 1311, 1314, 1323, 1325, 1328, 1328, 1331, 1331, 1338, 1340, 1341, 1349, 1349, 1350, 1355, 1356, 1356, 1357, 1359, 1359, 1360, 1362, 1366, 1370, 1371, 1373, 1375, 1375, 1376, 1399, 1401, 1401, 1405, 1409, 1413, 1415, 1416, 1417, 1419, 1420, 1423, 1423, 1424, 1424, 1428, 1431, 1437, 1438, 1439, 1440, 1445, 1453, 1455, 1456, 1468, 1468, 1469, 1472, 1479, 1480, 1484, 1484, 1490, 1495, 1495], \"xaxis\": \"x\", \"yaxis\": \"y\"}],                        {\"barmode\": \"relative\", \"legend\": {\"title\": {\"text\": \"variable\"}, \"tracegroupgap\": 0}, \"margin\": {\"t\": 60}, \"template\": {\"data\": {\"bar\": [{\"error_x\": {\"color\": \"#2a3f5f\"}, \"error_y\": {\"color\": \"#2a3f5f\"}, \"marker\": {\"line\": {\"color\": \"#E5ECF6\", \"width\": 0.5}}, \"type\": \"bar\"}], \"barpolar\": [{\"marker\": {\"line\": {\"color\": \"#E5ECF6\", \"width\": 0.5}}, \"type\": \"barpolar\"}], \"carpet\": [{\"aaxis\": {\"endlinecolor\": \"#2a3f5f\", \"gridcolor\": \"white\", \"linecolor\": \"white\", \"minorgridcolor\": \"white\", \"startlinecolor\": \"#2a3f5f\"}, \"baxis\": {\"endlinecolor\": \"#2a3f5f\", \"gridcolor\": \"white\", \"linecolor\": \"white\", \"minorgridcolor\": \"white\", \"startlinecolor\": \"#2a3f5f\"}, \"type\": \"carpet\"}], \"choropleth\": [{\"colorbar\": {\"outlinewidth\": 0, \"ticks\": \"\"}, \"type\": \"choropleth\"}], \"contour\": [{\"colorbar\": {\"outlinewidth\": 0, \"ticks\": \"\"}, \"colorscale\": [[0.0, \"#0d0887\"], [0.1111111111111111, \"#46039f\"], [0.2222222222222222, \"#7201a8\"], [0.3333333333333333, \"#9c179e\"], [0.4444444444444444, \"#bd3786\"], [0.5555555555555556, \"#d8576b\"], [0.6666666666666666, \"#ed7953\"], [0.7777777777777778, \"#fb9f3a\"], [0.8888888888888888, \"#fdca26\"], [1.0, \"#f0f921\"]], \"type\": \"contour\"}], \"contourcarpet\": [{\"colorbar\": {\"outlinewidth\": 0, \"ticks\": \"\"}, \"type\": \"contourcarpet\"}], \"heatmap\": [{\"colorbar\": {\"outlinewidth\": 0, \"ticks\": \"\"}, \"colorscale\": [[0.0, \"#0d0887\"], [0.1111111111111111, \"#46039f\"], [0.2222222222222222, \"#7201a8\"], [0.3333333333333333, \"#9c179e\"], [0.4444444444444444, \"#bd3786\"], [0.5555555555555556, \"#d8576b\"], [0.6666666666666666, \"#ed7953\"], [0.7777777777777778, \"#fb9f3a\"], [0.8888888888888888, \"#fdca26\"], [1.0, \"#f0f921\"]], \"type\": \"heatmap\"}], \"heatmapgl\": [{\"colorbar\": {\"outlinewidth\": 0, \"ticks\": \"\"}, \"colorscale\": [[0.0, \"#0d0887\"], [0.1111111111111111, \"#46039f\"], [0.2222222222222222, \"#7201a8\"], [0.3333333333333333, \"#9c179e\"], [0.4444444444444444, \"#bd3786\"], [0.5555555555555556, \"#d8576b\"], [0.6666666666666666, \"#ed7953\"], [0.7777777777777778, \"#fb9f3a\"], [0.8888888888888888, \"#fdca26\"], [1.0, \"#f0f921\"]], \"type\": \"heatmapgl\"}], \"histogram\": [{\"marker\": {\"colorbar\": {\"outlinewidth\": 0, \"ticks\": \"\"}}, \"type\": \"histogram\"}], \"histogram2d\": [{\"colorbar\": {\"outlinewidth\": 0, \"ticks\": \"\"}, \"colorscale\": [[0.0, \"#0d0887\"], [0.1111111111111111, \"#46039f\"], [0.2222222222222222, \"#7201a8\"], [0.3333333333333333, \"#9c179e\"], [0.4444444444444444, \"#bd3786\"], [0.5555555555555556, \"#d8576b\"], [0.6666666666666666, \"#ed7953\"], [0.7777777777777778, \"#fb9f3a\"], [0.8888888888888888, \"#fdca26\"], [1.0, \"#f0f921\"]], \"type\": \"histogram2d\"}], \"histogram2dcontour\": [{\"colorbar\": {\"outlinewidth\": 0, \"ticks\": \"\"}, \"colorscale\": [[0.0, \"#0d0887\"], [0.1111111111111111, \"#46039f\"], [0.2222222222222222, \"#7201a8\"], [0.3333333333333333, \"#9c179e\"], [0.4444444444444444, \"#bd3786\"], [0.5555555555555556, \"#d8576b\"], [0.6666666666666666, \"#ed7953\"], [0.7777777777777778, \"#fb9f3a\"], [0.8888888888888888, \"#fdca26\"], [1.0, \"#f0f921\"]], \"type\": \"histogram2dcontour\"}], \"mesh3d\": [{\"colorbar\": {\"outlinewidth\": 0, \"ticks\": \"\"}, \"type\": \"mesh3d\"}], \"parcoords\": [{\"line\": {\"colorbar\": {\"outlinewidth\": 0, \"ticks\": \"\"}}, \"type\": \"parcoords\"}], \"pie\": [{\"automargin\": true, \"type\": \"pie\"}], \"scatter\": [{\"marker\": {\"colorbar\": {\"outlinewidth\": 0, \"ticks\": \"\"}}, \"type\": \"scatter\"}], \"scatter3d\": [{\"line\": {\"colorbar\": {\"outlinewidth\": 0, \"ticks\": \"\"}}, \"marker\": {\"colorbar\": {\"outlinewidth\": 0, \"ticks\": \"\"}}, \"type\": \"scatter3d\"}], \"scattercarpet\": [{\"marker\": {\"colorbar\": {\"outlinewidth\": 0, \"ticks\": \"\"}}, \"type\": \"scattercarpet\"}], \"scattergeo\": [{\"marker\": {\"colorbar\": {\"outlinewidth\": 0, \"ticks\": \"\"}}, \"type\": \"scattergeo\"}], \"scattergl\": [{\"marker\": {\"colorbar\": {\"outlinewidth\": 0, \"ticks\": \"\"}}, \"type\": \"scattergl\"}], \"scattermapbox\": [{\"marker\": {\"colorbar\": {\"outlinewidth\": 0, \"ticks\": \"\"}}, \"type\": \"scattermapbox\"}], \"scatterpolar\": [{\"marker\": {\"colorbar\": {\"outlinewidth\": 0, \"ticks\": \"\"}}, \"type\": \"scatterpolar\"}], \"scatterpolargl\": [{\"marker\": {\"colorbar\": {\"outlinewidth\": 0, \"ticks\": \"\"}}, \"type\": \"scatterpolargl\"}], \"scatterternary\": [{\"marker\": {\"colorbar\": {\"outlinewidth\": 0, \"ticks\": \"\"}}, \"type\": \"scatterternary\"}], \"surface\": [{\"colorbar\": {\"outlinewidth\": 0, \"ticks\": \"\"}, \"colorscale\": [[0.0, \"#0d0887\"], [0.1111111111111111, \"#46039f\"], [0.2222222222222222, \"#7201a8\"], [0.3333333333333333, \"#9c179e\"], [0.4444444444444444, \"#bd3786\"], [0.5555555555555556, \"#d8576b\"], [0.6666666666666666, \"#ed7953\"], [0.7777777777777778, \"#fb9f3a\"], [0.8888888888888888, \"#fdca26\"], [1.0, \"#f0f921\"]], \"type\": \"surface\"}], \"table\": [{\"cells\": {\"fill\": {\"color\": \"#EBF0F8\"}, \"line\": {\"color\": \"white\"}}, \"header\": {\"fill\": {\"color\": \"#C8D4E3\"}, \"line\": {\"color\": \"white\"}}, \"type\": \"table\"}]}, \"layout\": {\"annotationdefaults\": {\"arrowcolor\": \"#2a3f5f\", \"arrowhead\": 0, \"arrowwidth\": 1}, \"coloraxis\": {\"colorbar\": {\"outlinewidth\": 0, \"ticks\": \"\"}}, \"colorscale\": {\"diverging\": [[0, \"#8e0152\"], [0.1, \"#c51b7d\"], [0.2, \"#de77ae\"], [0.3, \"#f1b6da\"], [0.4, \"#fde0ef\"], [0.5, \"#f7f7f7\"], [0.6, \"#e6f5d0\"], [0.7, \"#b8e186\"], [0.8, \"#7fbc41\"], [0.9, \"#4d9221\"], [1, \"#276419\"]], \"sequential\": [[0.0, \"#0d0887\"], [0.1111111111111111, \"#46039f\"], [0.2222222222222222, \"#7201a8\"], [0.3333333333333333, \"#9c179e\"], [0.4444444444444444, \"#bd3786\"], [0.5555555555555556, \"#d8576b\"], [0.6666666666666666, \"#ed7953\"], [0.7777777777777778, \"#fb9f3a\"], [0.8888888888888888, \"#fdca26\"], [1.0, \"#f0f921\"]], \"sequentialminus\": [[0.0, \"#0d0887\"], [0.1111111111111111, \"#46039f\"], [0.2222222222222222, \"#7201a8\"], [0.3333333333333333, \"#9c179e\"], [0.4444444444444444, \"#bd3786\"], [0.5555555555555556, \"#d8576b\"], [0.6666666666666666, \"#ed7953\"], [0.7777777777777778, \"#fb9f3a\"], [0.8888888888888888, \"#fdca26\"], [1.0, \"#f0f921\"]]}, \"colorway\": [\"#636efa\", \"#EF553B\", \"#00cc96\", \"#ab63fa\", \"#FFA15A\", \"#19d3f3\", \"#FF6692\", \"#B6E880\", \"#FF97FF\", \"#FECB52\"], \"font\": {\"color\": \"#2a3f5f\"}, \"geo\": {\"bgcolor\": \"white\", \"lakecolor\": \"white\", \"landcolor\": \"#E5ECF6\", \"showlakes\": true, \"showland\": true, \"subunitcolor\": \"white\"}, \"hoverlabel\": {\"align\": \"left\"}, \"hovermode\": \"closest\", \"mapbox\": {\"style\": \"light\"}, \"paper_bgcolor\": \"white\", \"plot_bgcolor\": \"#E5ECF6\", \"polar\": {\"angularaxis\": {\"gridcolor\": \"white\", \"linecolor\": \"white\", \"ticks\": \"\"}, \"bgcolor\": \"#E5ECF6\", \"radialaxis\": {\"gridcolor\": \"white\", \"linecolor\": \"white\", \"ticks\": \"\"}}, \"scene\": {\"xaxis\": {\"backgroundcolor\": \"#E5ECF6\", \"gridcolor\": \"white\", \"gridwidth\": 2, \"linecolor\": \"white\", \"showbackground\": true, \"ticks\": \"\", \"zerolinecolor\": \"white\"}, \"yaxis\": {\"backgroundcolor\": \"#E5ECF6\", \"gridcolor\": \"white\", \"gridwidth\": 2, \"linecolor\": \"white\", \"showbackground\": true, \"ticks\": \"\", \"zerolinecolor\": \"white\"}, \"zaxis\": {\"backgroundcolor\": \"#E5ECF6\", \"gridcolor\": \"white\", \"gridwidth\": 2, \"linecolor\": \"white\", \"showbackground\": true, \"ticks\": \"\", \"zerolinecolor\": \"white\"}}, \"shapedefaults\": {\"line\": {\"color\": \"#2a3f5f\"}}, \"ternary\": {\"aaxis\": {\"gridcolor\": \"white\", \"linecolor\": \"white\", \"ticks\": \"\"}, \"baxis\": {\"gridcolor\": \"white\", \"linecolor\": \"white\", \"ticks\": \"\"}, \"bgcolor\": \"#E5ECF6\", \"caxis\": {\"gridcolor\": \"white\", \"linecolor\": \"white\", \"ticks\": \"\"}}, \"title\": {\"x\": 0.05}, \"xaxis\": {\"automargin\": true, \"gridcolor\": \"white\", \"linecolor\": \"white\", \"ticks\": \"\", \"title\": {\"standoff\": 15}, \"zerolinecolor\": \"white\", \"zerolinewidth\": 2}, \"yaxis\": {\"automargin\": true, \"gridcolor\": \"white\", \"linecolor\": \"white\", \"ticks\": \"\", \"title\": {\"standoff\": 15}, \"zerolinecolor\": \"white\", \"zerolinewidth\": 2}}}, \"xaxis\": {\"anchor\": \"y\", \"domain\": [0.0, 1.0], \"title\": {\"text\": \"value\"}}, \"yaxis\": {\"anchor\": \"x\", \"domain\": [0.0, 1.0], \"title\": {\"text\": \"count\"}}},                        {\"responsive\": true}                    ).then(function(){\n",
       "                            \n",
       "var gd = document.getElementById('88fa0b33-9437-41ee-a592-685df48fbe44');\n",
       "var x = new MutationObserver(function (mutations, observer) {{\n",
       "        var display = window.getComputedStyle(gd).display;\n",
       "        if (!display || display === 'none') {{\n",
       "            console.log([gd, 'removed!']);\n",
       "            Plotly.purge(gd);\n",
       "            observer.disconnect();\n",
       "        }}\n",
       "}});\n",
       "\n",
       "// Listen for the removal of the full notebook cells\n",
       "var notebookContainer = gd.closest('#notebook-container');\n",
       "if (notebookContainer) {{\n",
       "    x.observe(notebookContainer, {childList: true});\n",
       "}}\n",
       "\n",
       "// Listen for the clearing of the current output cell\n",
       "var outputEl = gd.closest('.output');\n",
       "if (outputEl) {{\n",
       "    x.observe(outputEl, {childList: true});\n",
       "}}\n",
       "\n",
       "                        })                };                });            </script>        </div>"
      ]
     },
     "metadata": {},
     "output_type": "display_data"
    }
   ],
   "source": [
    "import plotly.express as px\n",
    "\n",
    "fig = px.histogram(data)\n",
    "fig.show()"
   ]
  },
  {
   "cell_type": "code",
   "execution_count": null,
   "metadata": {},
   "outputs": [],
   "source": []
  }
 ],
 "metadata": {
  "kernelspec": {
   "display_name": "Python (modelo)",
   "language": "python",
   "name": "modelo"
  },
  "language_info": {
   "codemirror_mode": {
    "name": "ipython",
    "version": 3
   },
   "file_extension": ".py",
   "mimetype": "text/x-python",
   "name": "python",
   "nbconvert_exporter": "python",
   "pygments_lexer": "ipython3",
   "version": "3.8.2"
  }
 },
 "nbformat": 4,
 "nbformat_minor": 4
}
